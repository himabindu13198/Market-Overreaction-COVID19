{
  "nbformat": 4,
  "nbformat_minor": 0,
  "metadata": {
    "colab": {
      "name": "Clustering.ipynb",
      "provenance": [],
      "collapsed_sections": []
    },
    "kernelspec": {
      "name": "python3",
      "display_name": "Python 3"
    }
  },
  "cells": [
    {
      "cell_type": "code",
      "metadata": {
        "id": "fI9jx_iyGfYV",
        "colab_type": "code",
        "colab": {}
      },
      "source": [
        "import pandas as pd\n",
        "import numpy as np\n",
        "import matplotlib.pyplot as plt"
      ],
      "execution_count": 0,
      "outputs": []
    },
    {
      "cell_type": "code",
      "metadata": {
        "id": "nwRdvvH6Gi4l",
        "colab_type": "code",
        "outputId": "02304852-e63e-478e-ef54-8e4f594b2328",
        "colab": {
          "base_uri": "https://localhost:8080/",
          "height": 123
        }
      },
      "source": [
        "from google.colab import drive\n",
        "drive.mount('/content/drive')"
      ],
      "execution_count": 0,
      "outputs": [
        {
          "output_type": "stream",
          "text": [
            "Go to this URL in a browser: https://accounts.google.com/o/oauth2/auth?client_id=947318989803-6bn6qk8qdgf4n4g3pfee6491hc0brc4i.apps.googleusercontent.com&redirect_uri=urn%3aietf%3awg%3aoauth%3a2.0%3aoob&response_type=code&scope=email%20https%3a%2f%2fwww.googleapis.com%2fauth%2fdocs.test%20https%3a%2f%2fwww.googleapis.com%2fauth%2fdrive%20https%3a%2f%2fwww.googleapis.com%2fauth%2fdrive.photos.readonly%20https%3a%2f%2fwww.googleapis.com%2fauth%2fpeopleapi.readonly\n",
            "\n",
            "Enter your authorization code:\n",
            "··········\n",
            "Mounted at /content/drive\n"
          ],
          "name": "stdout"
        }
      ]
    },
    {
      "cell_type": "code",
      "metadata": {
        "id": "4w-J6YPEGlrK",
        "colab_type": "code",
        "outputId": "5b482079-d000-4df2-e74c-ce1c11e9ab8b",
        "colab": {
          "base_uri": "https://localhost:8080/",
          "height": 34
        }
      },
      "source": [
        "!ls drive/My\\ Drive/Datathon/Code/"
      ],
      "execution_count": 0,
      "outputs": [
        {
          "output_type": "stream",
          "text": [
            "Clustering.ipynb  zoo_data-1.csv\n"
          ],
          "name": "stdout"
        }
      ]
    },
    {
      "cell_type": "code",
      "metadata": {
        "id": "BOlVXXEaGvKL",
        "colab_type": "code",
        "outputId": "8d6c0d92-348c-4551-cc49-2d2594acbf49",
        "colab": {
          "base_uri": "https://localhost:8080/",
          "height": 173
        }
      },
      "source": [
        "# zoo_data = pd.read_csv(\"drive/My Drive/Datathon/Code/zoo_data-1.csv\", encoding = 'utf-8', \n",
        "#                               index_col = [\"animal_name\"]) \n",
        "  \n",
        "# print first 5 rows of zoo data  \n",
        "# print(zoo_data.head())\n",
        "\n",
        "c1 = pd.read_csv(\"drive/My Drive/Datathon/Dataset/Cluster Data/2011 Cluster Data.csv\", encoding = 'utf-8', \n",
        "                              index_col = [\"Countries\"]) \n",
        "print(c1.head())\n"
      ],
      "execution_count": 0,
      "outputs": [
        {
          "output_type": "stream",
          "text": [
            "                                    Exchange Rate  ...  Trade Openness\n",
            "Countries                                          ...                \n",
            "Great Britain and Northern Ireland         1.6043  ...        0.167864\n",
            "Japan                                     79.6967  ...        0.116009\n",
            "Korea, South                            1106.9400  ...        0.092739\n",
            "China - mainland                           6.4630  ...        0.138254\n",
            "Brazil                                     1.6723  ...        0.155002\n",
            "\n",
            "[5 rows x 9 columns]\n"
          ],
          "name": "stdout"
        }
      ]
    },
    {
      "cell_type": "code",
      "metadata": {
        "id": "jR894Lu_YOvJ",
        "colab_type": "code",
        "outputId": "1d213217-dc37-4a9c-a01e-96d5a688228d",
        "colab": {
          "base_uri": "https://localhost:8080/",
          "height": 34
        }
      },
      "source": [
        "#z score normalization \n",
        "from sklearn.preprocessing import StandardScaler\n",
        "scaler = StandardScaler()\n",
        "scaled_data = scaler.fit_transform(c1)\n",
        "# scaled_data\n",
        "print(s.stdev(scaled_data[:,0]))"
      ],
      "execution_count": 0,
      "outputs": [
        {
          "output_type": "stream",
          "text": [
            "1.0540925533894598\n"
          ],
          "name": "stdout"
        }
      ]
    },
    {
      "cell_type": "code",
      "metadata": {
        "id": "bWG6PR4lYvBJ",
        "colab_type": "code",
        "outputId": "43ca0b6e-6172-4587-d30c-eb92242ed320",
        "colab": {
          "base_uri": "https://localhost:8080/",
          "height": 295
        }
      },
      "source": [
        "#finding optimal number of clusters\n",
        "distortions = []\n",
        "for i in range(1, 11):\n",
        "    km = KMeans(\n",
        "        n_clusters=i, init='random',\n",
        "        n_init=10, max_iter=300,\n",
        "        tol=1e-04, random_state=0\n",
        "    )\n",
        "    km.fit(c1)\n",
        "    distortions.append(km.inertia_)\n",
        "\n",
        "# plot\n",
        "plt.plot(range(1, 11), distortions, marker='o')\n",
        "plt.xlabel('Number of clusters')\n",
        "plt.ylabel('Distortion')\n",
        "plt.title('For 2011')\n",
        "plt.show()"
      ],
      "execution_count": 0,
      "outputs": [
        {
          "output_type": "display_data",
          "data": {
            "image/png": "[encoded data removed]",
            "text/plain": [
              "<Figure size 432x288 with 1 Axes>"
            ]
          },
          "metadata": {
            "tags": []
          }
        }
      ]
    },
    {
      "cell_type": "code",
      "metadata": {
        "id": "UTj9cLSDHioJ",
        "colab_type": "code",
        "outputId": "c1196c42-46ec-452d-d18f-06976270f2de",
        "colab": {
          "base_uri": "https://localhost:8080/",
          "height": 34
        }
      },
      "source": [
        "#clustering + getting labels\n",
        "from sklearn.cluster import KMeans \n",
        "clusters = 2\n",
        "  \n",
        "kmeans = KMeans(n_clusters = clusters) \n",
        "kmeans.fit(c1) \n",
        "  \n",
        "print(kmeans.labels_)"
      ],
      "execution_count": 0,
      "outputs": [
        {
          "output_type": "stream",
          "text": [
            "[0 0 1 0 0 0 0 0 0 0]\n"
          ],
          "name": "stdout"
        }
      ]
    },
    {
      "cell_type": "code",
      "metadata": {
        "id": "RHSbSh7wIGqA",
        "colab_type": "code",
        "outputId": "c8dc8c6f-2ec0-45ff-a9e1-ccd9921e21c5",
        "colab": {
          "base_uri": "https://localhost:8080/",
          "height": 173
        }
      },
      "source": [
        "#for 2012\n",
        "c2 = pd.read_csv(\"drive/My Drive/cluster_2012.csv\", encoding = 'utf-8', \n",
        "                              index_col = [\"Countries\"]) \n",
        "print(c2.head())"
      ],
      "execution_count": 0,
      "outputs": [
        {
          "output_type": "stream",
          "text": [
            "                                    Exchange Rate  ...  Income Per Capita\n",
            "Countries                                          ...                   \n",
            "Great Britain and Northern Ireland         1.5853  ...       36083.524470\n",
            "Japan                                     79.8180  ...       38612.862690\n",
            "Korea, South                            1126.1621  ...       19980.905890\n",
            "China - mainland                           6.3093  ...        4770.882242\n",
            "Brazil                                     1.9535  ...       10327.386040\n",
            "\n",
            "[5 rows x 8 columns]\n"
          ],
          "name": "stdout"
        }
      ]
    },
    {
      "cell_type": "code",
      "metadata": {
        "id": "msrfambH3cbV",
        "colab_type": "code",
        "outputId": "ba16583d-a5a9-4620-ba64-30a3f88fca77",
        "colab": {
          "base_uri": "https://localhost:8080/",
          "height": 34
        }
      },
      "source": [
        "#z score normalization \n",
        "from sklearn.preprocessing import StandardScaler\n",
        "scaler = StandardScaler()\n",
        "scaled_data = scaler.fit_transform(c2)\n",
        "# scaled_data\n",
        "print(s.stdev(scaled_data[:,0]))"
      ],
      "execution_count": 0,
      "outputs": [
        {
          "output_type": "stream",
          "text": [
            "1.0540925533894596\n"
          ],
          "name": "stdout"
        }
      ]
    },
    {
      "cell_type": "code",
      "metadata": {
        "id": "ZdcxFKfC3hlY",
        "colab_type": "code",
        "outputId": "e3ac54f7-dcc9-4ca3-99fa-0ae546710ea1",
        "colab": {
          "base_uri": "https://localhost:8080/",
          "height": 295
        }
      },
      "source": [
        "#finding optimal number of clusters\n",
        "distortions = []\n",
        "for i in range(1, 11):\n",
        "    km = KMeans(\n",
        "        n_clusters=i, init='random',\n",
        "        n_init=10, max_iter=300,\n",
        "        tol=1e-04, random_state=0\n",
        "    )\n",
        "    km.fit(c2)\n",
        "    distortions.append(km.inertia_)\n",
        "\n",
        "# plot\n",
        "plt.plot(range(1, 11), distortions, marker='o')\n",
        "plt.xlabel('Number of clusters')\n",
        "plt.ylabel('Distortion')\n",
        "plt.title('For 2012')\n",
        "plt.show()"
      ],
      "execution_count": 0,
      "outputs": [
        {
          "output_type": "display_data",
          "data": {
            "image/png": "[encoded data removed]",
            "text/plain": [
              "<Figure size 432x288 with 1 Axes>"
            ]
          },
          "metadata": {
            "tags": []
          }
        }
      ]
    },
    {
      "cell_type": "code",
      "metadata": {
        "id": "46Q2EckQ3nBO",
        "colab_type": "code",
        "outputId": "c976a7ff-b917-48f1-e453-028e69958706",
        "colab": {
          "base_uri": "https://localhost:8080/",
          "height": 34
        }
      },
      "source": [
        "#clustering + getting labels\n",
        "from sklearn.cluster import KMeans \n",
        "clusters = 2\n",
        "  \n",
        "kmeans = KMeans(n_clusters = clusters) \n",
        "kmeans.fit(c2) \n",
        "  \n",
        "print(kmeans.labels_)"
      ],
      "execution_count": 0,
      "outputs": [
        {
          "output_type": "stream",
          "text": [
            "[0 0 1 0 0 0 0 0 0 0]\n"
          ],
          "name": "stdout"
        }
      ]
    },
    {
      "cell_type": "code",
      "metadata": {
        "id": "aFaxTmsO3rmt",
        "colab_type": "code",
        "outputId": "ed2336fa-66e2-4dea-9b18-5be71a205a79",
        "colab": {
          "base_uri": "https://localhost:8080/",
          "height": 173
        }
      },
      "source": [
        "#for 2013\n",
        "c3 = pd.read_csv(\"drive/My Drive/Datathon/Dataset/Cluster Data/Clean Data/cluster_2013.csv\", encoding = 'utf-8', \n",
        "                              index_col = [\"Countries\"]) \n",
        "print(c3.head())"
      ],
      "execution_count": 0,
      "outputs": [
        {
          "output_type": "stream",
          "text": [
            "                Exchange Rate  ...  Income Per Capita\n",
            "Countries                      ...                   \n",
            "United Kingdom         1.5642  ...        36538.23564\n",
            "Japan                 97.5971  ...        32488.22596\n",
            "Korea, Rep.         1094.6749  ...        20901.65801\n",
            "China                  6.1478  ...         5262.94989\n",
            "Brazil                 2.1570  ...        10414.89321\n",
            "\n",
            "[5 rows x 8 columns]\n"
          ],
          "name": "stdout"
        }
      ]
    },
    {
      "cell_type": "code",
      "metadata": {
        "id": "vNf9JdI6SOU8",
        "colab_type": "code",
        "outputId": "c1cc929f-d24f-4cba-91d9-b472fc2a8887",
        "colab": {
          "base_uri": "https://localhost:8080/",
          "height": 34
        }
      },
      "source": [
        "#z score normalization \n",
        "from sklearn.preprocessing import StandardScaler\n",
        "scaler = StandardScaler()\n",
        "scaled_data = scaler.fit_transform(c3)\n",
        "# scaled_data\n",
        "print(s.stdev(scaled_data[:,0]))"
      ],
      "execution_count": 0,
      "outputs": [
        {
          "output_type": "stream",
          "text": [
            "1.0540925533894598\n"
          ],
          "name": "stdout"
        }
      ]
    },
    {
      "cell_type": "code",
      "metadata": {
        "id": "utymc0U1SRYh",
        "colab_type": "code",
        "outputId": "8b47868b-c38d-40e8-d652-9f39cc6fffdf",
        "colab": {
          "base_uri": "https://localhost:8080/",
          "height": 295
        }
      },
      "source": [
        "#finding optimal number of clusters\n",
        "distortions = []\n",
        "for i in range(1, 11):\n",
        "    km = KMeans(\n",
        "        n_clusters=i, init='random',\n",
        "        n_init=10, max_iter=300,\n",
        "        tol=1e-04, random_state=0\n",
        "    )\n",
        "    km.fit(c3)\n",
        "    distortions.append(km.inertia_)\n",
        "\n",
        "# plot\n",
        "plt.plot(range(1, 11), distortions, marker='o')\n",
        "plt.xlabel('Number of clusters')\n",
        "plt.ylabel('Distortion')\n",
        "plt.title('For 2013')\n",
        "plt.show()"
      ],
      "execution_count": 0,
      "outputs": [
        {
          "output_type": "display_data",
          "data": {
            "image/png": "[encoded data removed]",
            "text/plain": [
              "<Figure size 432x288 with 1 Axes>"
            ]
          },
          "metadata": {
            "tags": []
          }
        }
      ]
    },
    {
      "cell_type": "code",
      "metadata": {
        "id": "pAp0ofBUSUsv",
        "colab_type": "code",
        "outputId": "52fa805a-5674-442a-925a-c4e6567fa6f2",
        "colab": {
          "base_uri": "https://localhost:8080/",
          "height": 34
        }
      },
      "source": [
        "#clustering + getting labels\n",
        "from sklearn.cluster import KMeans \n",
        "clusters = 2\n",
        "  \n",
        "kmeans = KMeans(n_clusters = clusters) \n",
        "kmeans.fit(c3) \n",
        "  \n",
        "print(kmeans.labels_)"
      ],
      "execution_count": 0,
      "outputs": [
        {
          "output_type": "stream",
          "text": [
            "[0 0 1 0 0 0 0 0 0 0]\n"
          ],
          "name": "stdout"
        }
      ]
    },
    {
      "cell_type": "code",
      "metadata": {
        "id": "KVMuADThSe2Z",
        "colab_type": "code",
        "outputId": "e6550d09-ae3e-4785-b62e-df77b2c54c7d",
        "colab": {
          "base_uri": "https://localhost:8080/",
          "height": 173
        }
      },
      "source": [
        "#for 2014\n",
        "c4 = pd.read_csv(\"drive/My Drive/Datathon/Dataset/Cluster Data/Clean Data/cluster_2014.csv\", encoding = 'utf-8', \n",
        "                              index_col = [\"Countries\"]) \n",
        "print(c4.head())"
      ],
      "execution_count": 0,
      "outputs": [
        {
          "output_type": "stream",
          "text": [
            "                Exchange Rate  ...  Income Per Capita\n",
            "Countries                      ...                   \n",
            "United Kingdom         1.6484  ...       39971.561270\n",
            "Japan                105.7398  ...       30650.290640\n",
            "Korea, Rep.         1052.2924  ...       22533.150820\n",
            "China                  6.1620  ...        5754.297064\n",
            "Brazil                 2.3512  ...       10186.721290\n",
            "\n",
            "[5 rows x 8 columns]\n"
          ],
          "name": "stdout"
        }
      ]
    },
    {
      "cell_type": "code",
      "metadata": {
        "id": "8irASql3SfrN",
        "colab_type": "code",
        "outputId": "c3cf5b60-4e77-4ad7-e314-9ee23f69b3d6",
        "colab": {
          "base_uri": "https://localhost:8080/",
          "height": 34
        }
      },
      "source": [
        "#z score normalization \n",
        "from sklearn.preprocessing import StandardScaler\n",
        "scaler = StandardScaler()\n",
        "scaled_data = scaler.fit_transform(c4)\n",
        "# scaled_data\n",
        "print(s.stdev(scaled_data[:,0]))"
      ],
      "execution_count": 0,
      "outputs": [
        {
          "output_type": "stream",
          "text": [
            "1.0540925533894598\n"
          ],
          "name": "stdout"
        }
      ]
    },
    {
      "cell_type": "code",
      "metadata": {
        "id": "aXh7epSDSqpW",
        "colab_type": "code",
        "outputId": "0731a7e3-a5b5-4238-9d53-a9bea8601b78",
        "colab": {
          "base_uri": "https://localhost:8080/",
          "height": 295
        }
      },
      "source": [
        "#finding optimal number of clusters\n",
        "distortions = []\n",
        "for i in range(1, 11):\n",
        "    km = KMeans(\n",
        "        n_clusters=i, init='random',\n",
        "        n_init=10, max_iter=300,\n",
        "        tol=1e-04, random_state=0\n",
        "    )\n",
        "    km.fit(c4)\n",
        "    distortions.append(km.inertia_)\n",
        "\n",
        "# plot\n",
        "plt.plot(range(1, 11), distortions, marker='o')\n",
        "plt.xlabel('Number of clusters')\n",
        "plt.ylabel('Distortion')\n",
        "plt.title('For 2014')\n",
        "plt.show()"
      ],
      "execution_count": 0,
      "outputs": [
        {
          "output_type": "display_data",
          "data": {
            "image/png": "[encoded data removed]",
            "text/plain": [
              "<Figure size 432x288 with 1 Axes>"
            ]
          },
          "metadata": {
            "tags": []
          }
        }
      ]
    },
    {
      "cell_type": "code",
      "metadata": {
        "id": "gxQaUEUySseC",
        "colab_type": "code",
        "outputId": "224b15ab-e07b-452f-bc41-4c1575077661",
        "colab": {
          "base_uri": "https://localhost:8080/",
          "height": 34
        }
      },
      "source": [
        "#clustering + getting labels\n",
        "from sklearn.cluster import KMeans \n",
        "clusters = 2\n",
        "  \n",
        "kmeans = KMeans(n_clusters = clusters) \n",
        "kmeans.fit(c4) \n",
        "  \n",
        "print(kmeans.labels_)"
      ],
      "execution_count": 0,
      "outputs": [
        {
          "output_type": "stream",
          "text": [
            "[0 0 1 0 0 0 0 0 0 0]\n"
          ],
          "name": "stdout"
        }
      ]
    },
    {
      "cell_type": "code",
      "metadata": {
        "id": "T2b73q3lSwUj",
        "colab_type": "code",
        "outputId": "1e775d56-dfa1-4735-a79e-03779a58a818",
        "colab": {
          "base_uri": "https://localhost:8080/",
          "height": 173
        }
      },
      "source": [
        "#for 2015\n",
        "c5 = pd.read_csv(\"drive/My Drive/Datathon/Dataset/Cluster Data/Clean Data/cluster_2015.csv\", encoding = 'utf-8', \n",
        "                              index_col = [\"Countries\"]) \n",
        "print(c5.head())"
      ],
      "execution_count": 0,
      "outputs": [
        {
          "output_type": "stream",
          "text": [
            "                Exchange Rate  ...  Income Per Capita\n",
            "Countries                      ...                   \n",
            "United Kingdom         1.5284  ...       37867.417690\n",
            "Japan                121.0491  ...       28057.783920\n",
            "Korea, Rep.         1130.9603  ...       21959.151510\n",
            "China                  6.2827  ...        6091.615435\n",
            "Brazil                 3.3360  ...        7447.224088\n",
            "\n",
            "[5 rows x 8 columns]\n"
          ],
          "name": "stdout"
        }
      ]
    },
    {
      "cell_type": "code",
      "metadata": {
        "id": "7XNh4-GCTJyu",
        "colab_type": "code",
        "outputId": "f1ddeef3-d57d-45b1-f09a-2123d428756b",
        "colab": {
          "base_uri": "https://localhost:8080/",
          "height": 34
        }
      },
      "source": [
        "#z score normalization \n",
        "from sklearn.preprocessing import StandardScaler\n",
        "scaler = StandardScaler()\n",
        "scaled_data = scaler.fit_transform(c5)\n",
        "# scaled_data\n",
        "print(s.stdev(scaled_data[:,0]))"
      ],
      "execution_count": 0,
      "outputs": [
        {
          "output_type": "stream",
          "text": [
            "1.0540925533894598\n"
          ],
          "name": "stdout"
        }
      ]
    },
    {
      "cell_type": "code",
      "metadata": {
        "id": "BegglfcATM0H",
        "colab_type": "code",
        "outputId": "eba254e9-f261-45b0-83a1-779601895ce6",
        "colab": {
          "base_uri": "https://localhost:8080/",
          "height": 295
        }
      },
      "source": [
        "#finding optimal number of clusters\n",
        "distortions = []\n",
        "for i in range(1, 11):\n",
        "    km = KMeans(\n",
        "        n_clusters=i, init='random',\n",
        "        n_init=10, max_iter=300,\n",
        "        tol=1e-04, random_state=0\n",
        "    )\n",
        "    km.fit(c5)\n",
        "    distortions.append(km.inertia_)\n",
        "\n",
        "# plot\n",
        "plt.plot(range(1, 11), distortions, marker='o')\n",
        "plt.xlabel('Number of clusters')\n",
        "plt.ylabel('Distortion')\n",
        "plt.title('For 2015')\n",
        "plt.show()"
      ],
      "execution_count": 0,
      "outputs": [
        {
          "output_type": "display_data",
          "data": {
            "image/png": "[encoded data removed]",
            "text/plain": [
              "<Figure size 432x288 with 1 Axes>"
            ]
          },
          "metadata": {
            "tags": []
          }
        }
      ]
    },
    {
      "cell_type": "code",
      "metadata": {
        "id": "0vPea7gXTQUG",
        "colab_type": "code",
        "outputId": "f51871f8-4ba2-4094-d87a-36889d3ea4a2",
        "colab": {
          "base_uri": "https://localhost:8080/",
          "height": 34
        }
      },
      "source": [
        "#clustering + getting labels\n",
        "from sklearn.cluster import KMeans \n",
        "clusters = 2\n",
        "  \n",
        "kmeans = KMeans(n_clusters = clusters) \n",
        "kmeans.fit(c5) \n",
        "  \n",
        "print(kmeans.labels_)"
      ],
      "execution_count": 0,
      "outputs": [
        {
          "output_type": "stream",
          "text": [
            "[0 0 1 0 0 0 0 0 0 0]\n"
          ],
          "name": "stdout"
        }
      ]
    },
    {
      "cell_type": "code",
      "metadata": {
        "id": "iW798BadUER5",
        "colab_type": "code",
        "outputId": "4bd156de-04f9-404c-ae3f-4272569e31bb",
        "colab": {
          "base_uri": "https://localhost:8080/",
          "height": 173
        }
      },
      "source": [
        "#for 2016\n",
        "c6 = pd.read_csv(\"drive/My Drive/Datathon/Dataset/Cluster Data/Clean Data/cluster_2016.csv\", encoding = 'utf-8', \n",
        "                              index_col = [\"Countries\"]) \n",
        "print(c6.head())"
      ],
      "execution_count": 0,
      "outputs": [
        {
          "output_type": "stream",
          "text": [
            "                Exchange Rate  ...  Income Per Capita\n",
            "Countries                      ...                   \n",
            "United Kingdom         1.3555  ...       34430.335560\n",
            "Japan                108.6569  ...       31513.025210\n",
            "Korea, Rep.         1159.3422  ...       22420.543850\n",
            "China                  6.6400  ...        6163.984514\n",
            "Brazil                 3.4839  ...        7405.912556\n",
            "\n",
            "[5 rows x 8 columns]\n"
          ],
          "name": "stdout"
        }
      ]
    },
    {
      "cell_type": "code",
      "metadata": {
        "id": "Po_R4VNbUMOZ",
        "colab_type": "code",
        "outputId": "4c1cdcc1-135d-4621-ed76-5e09470d4450",
        "colab": {
          "base_uri": "https://localhost:8080/",
          "height": 34
        }
      },
      "source": [
        "#z score normalization \n",
        "from sklearn.preprocessing import StandardScaler\n",
        "scaler = StandardScaler()\n",
        "scaled_data = scaler.fit_transform(c6)\n",
        "# scaled_data\n",
        "print(s.stdev(scaled_data[:,0]))"
      ],
      "execution_count": 0,
      "outputs": [
        {
          "output_type": "stream",
          "text": [
            "1.0540925533894598\n"
          ],
          "name": "stdout"
        }
      ]
    },
    {
      "cell_type": "code",
      "metadata": {
        "id": "Jg__XCX_UP3D",
        "colab_type": "code",
        "outputId": "9e2a1a82-e511-483d-823e-8243557ee4bb",
        "colab": {
          "base_uri": "https://localhost:8080/",
          "height": 295
        }
      },
      "source": [
        "#finding optimal number of clusters\n",
        "distortions = []\n",
        "for i in range(1, 11):\n",
        "    km = KMeans(\n",
        "        n_clusters=i, init='random',\n",
        "        n_init=10, max_iter=300,\n",
        "        tol=1e-04, random_state=0\n",
        "    )\n",
        "    km.fit(c6)\n",
        "    distortions.append(km.inertia_)\n",
        "\n",
        "# plot\n",
        "plt.plot(range(1, 11), distortions, marker='o')\n",
        "plt.xlabel('Number of clusters')\n",
        "plt.ylabel('Distortion')\n",
        "plt.title('For 2016')\n",
        "plt.show()"
      ],
      "execution_count": 0,
      "outputs": [
        {
          "output_type": "display_data",
          "data": {
            "image/png": "[encoded data removed]",
            "text/plain": [
              "<Figure size 432x288 with 1 Axes>"
            ]
          },
          "metadata": {
            "tags": []
          }
        }
      ]
    },
    {
      "cell_type": "code",
      "metadata": {
        "id": "rPl54DcPUWNL",
        "colab_type": "code",
        "outputId": "0423014a-bf4c-4b50-9cb9-88b867d95513",
        "colab": {
          "base_uri": "https://localhost:8080/",
          "height": 34
        }
      },
      "source": [
        "#clustering + getting labels\n",
        "from sklearn.cluster import KMeans \n",
        "clusters = 2\n",
        "  \n",
        "kmeans = KMeans(n_clusters = clusters) \n",
        "kmeans.fit(c6) \n",
        "  \n",
        "print(kmeans.labels_)"
      ],
      "execution_count": 0,
      "outputs": [
        {
          "output_type": "stream",
          "text": [
            "[1 1 0 1 1 1 1 1 1 1]\n"
          ],
          "name": "stdout"
        }
      ]
    },
    {
      "cell_type": "code",
      "metadata": {
        "id": "McJdZ-j_USSa",
        "colab_type": "code",
        "outputId": "df75da8e-a08d-4fbe-9fac-4cbb4042305b",
        "colab": {
          "base_uri": "https://localhost:8080/",
          "height": 173
        }
      },
      "source": [
        "#for 2017\n",
        "c7 = pd.read_csv(\"drive/My Drive/Datathon/Dataset/Cluster Data/Clean Data/cluster_2017.csv\", encoding = 'utf-8', \n",
        "                              index_col = [\"Countries\"]) \n",
        "print(c7.head())"
      ],
      "execution_count": 0,
      "outputs": [
        {
          "output_type": "stream",
          "text": [
            "                Exchange Rate  ...  Income Per Capita\n",
            "Countries                      ...                   \n",
            "United Kingdom         1.2890  ...       34170.562510\n",
            "Japan                112.0986  ...       31107.448950\n",
            "Korea, Rep.         1129.0435  ...       24027.916050\n",
            "China                  6.7569  ...        6567.928606\n",
            "Brazil                 3.1910  ...        8397.118144\n",
            "\n",
            "[5 rows x 8 columns]\n"
          ],
          "name": "stdout"
        }
      ]
    },
    {
      "cell_type": "code",
      "metadata": {
        "id": "CVgreNZEUjb5",
        "colab_type": "code",
        "outputId": "bc0398ff-867e-465a-c89a-cfd0b21f70ed",
        "colab": {
          "base_uri": "https://localhost:8080/",
          "height": 34
        }
      },
      "source": [
        "#z score normalization \n",
        "from sklearn.preprocessing import StandardScaler\n",
        "scaler = StandardScaler()\n",
        "scaled_data = scaler.fit_transform(c7)\n",
        "# scaled_data\n",
        "print(s.stdev(scaled_data[:,0]))"
      ],
      "execution_count": 0,
      "outputs": [
        {
          "output_type": "stream",
          "text": [
            "1.0540925533894596\n"
          ],
          "name": "stdout"
        }
      ]
    },
    {
      "cell_type": "code",
      "metadata": {
        "id": "x5UWWZdrUwTy",
        "colab_type": "code",
        "outputId": "26b89312-fcf4-4b52-d942-d2e97452fed0",
        "colab": {
          "base_uri": "https://localhost:8080/",
          "height": 295
        }
      },
      "source": [
        "#finding optimal number of clusters\n",
        "distortions = []\n",
        "for i in range(1, 11):\n",
        "    km = KMeans(\n",
        "        n_clusters=i, init='random',\n",
        "        n_init=10, max_iter=300,\n",
        "        tol=1e-04, random_state=0\n",
        "    )\n",
        "    km.fit(c7)\n",
        "    distortions.append(km.inertia_)\n",
        "\n",
        "# plot\n",
        "plt.plot(range(1, 11), distortions, marker='o')\n",
        "plt.xlabel('Number of clusters')\n",
        "plt.ylabel('Distortion')\n",
        "plt.title('For 2017')\n",
        "plt.show()"
      ],
      "execution_count": 0,
      "outputs": [
        {
          "output_type": "display_data",
          "data": {
            "image/png": "[encoded data removed]",
            "text/plain": [
              "<Figure size 432x288 with 1 Axes>"
            ]
          },
          "metadata": {
            "tags": []
          }
        }
      ]
    },
    {
      "cell_type": "code",
      "metadata": {
        "id": "ZIYlMbZlUzwb",
        "colab_type": "code",
        "outputId": "66e04800-20c5-40ea-fd66-cb13947c01e1",
        "colab": {
          "base_uri": "https://localhost:8080/",
          "height": 34
        }
      },
      "source": [
        "#clustering + getting labels\n",
        "from sklearn.cluster import KMeans \n",
        "clusters = 2\n",
        "  \n",
        "kmeans = KMeans(n_clusters = clusters) \n",
        "kmeans.fit(c7) \n",
        "  \n",
        "print(kmeans.labels_)"
      ],
      "execution_count": 0,
      "outputs": [
        {
          "output_type": "stream",
          "text": [
            "[0 0 1 0 0 0 0 0 0 0]\n"
          ],
          "name": "stdout"
        }
      ]
    },
    {
      "cell_type": "code",
      "metadata": {
        "id": "Um6ZaGt9U3_D",
        "colab_type": "code",
        "outputId": "b2482b77-99d8-477e-ce0e-30e82f70ed7e",
        "colab": {
          "base_uri": "https://localhost:8080/",
          "height": 173
        }
      },
      "source": [
        "#for 2018\n",
        "c8 = pd.read_csv(\"drive/My Drive/Datathon/Dataset/Cluster Data/Clean Data/cluster_2018.csv\", encoding = 'utf-8', \n",
        "                              index_col = [\"Countries\"]) \n",
        "print(c8.head())"
      ],
      "execution_count": 0,
      "outputs": [
        {
          "output_type": "stream",
          "text": [
            "                Exchange Rate  ...  Consumption per Capita\n",
            "Countries                      ...                        \n",
            "United Kingdom         1.3363  ...            36077.852350\n",
            "Japan                110.3974  ...            29597.697290\n",
            "Korea, Rep.         1099.2926  ...            20302.988330\n",
            "China                  6.6090  ...             5213.020471\n",
            "Brazil                 3.6513  ...             7497.803986\n",
            "\n",
            "[5 rows x 6 columns]\n"
          ],
          "name": "stdout"
        }
      ]
    },
    {
      "cell_type": "code",
      "metadata": {
        "id": "ydTLmsLNU9b6",
        "colab_type": "code",
        "outputId": "4c757e2e-afb3-42d8-f98b-e1bf68941083",
        "colab": {
          "base_uri": "https://localhost:8080/",
          "height": 34
        }
      },
      "source": [
        "#z score normalization \n",
        "# c8 = c8.drop(c8.columns[7], c8.columns[9] ,  axis='columns')\n",
        "# c8.drop([\"International Tourism per capita\" , \"Income Per Capita\"] , axis=1, inplace=True)\n",
        "from sklearn.preprocessing import StandardScaler\n",
        "scaler = StandardScaler()\n",
        "scaled_data = scaler.fit_transform(c8)\n",
        "# scaled_data\n",
        "print(s.stdev(scaled_data[:,0]))"
      ],
      "execution_count": 0,
      "outputs": [
        {
          "output_type": "stream",
          "text": [
            "1.0540925533894598\n"
          ],
          "name": "stdout"
        }
      ]
    },
    {
      "cell_type": "code",
      "metadata": {
        "id": "VE7wvpIjVAjv",
        "colab_type": "code",
        "outputId": "0bdcd692-954a-4244-8b33-132ee1d6f3eb",
        "colab": {
          "base_uri": "https://localhost:8080/",
          "height": 295
        }
      },
      "source": [
        "#finding optimal number of clusters\n",
        "distortions = []\n",
        "for i in range(1, 11):\n",
        "    km = KMeans(\n",
        "        n_clusters=i, init='random',\n",
        "        n_init=10, max_iter=300,\n",
        "        tol=1e-04, random_state=0\n",
        "    )\n",
        "    km.fit(c8)\n",
        "    distortions.append(km.inertia_)\n",
        "\n",
        "# plot\n",
        "plt.plot(range(1, 11), distortions, marker='o')\n",
        "plt.xlabel('Number of clusters')\n",
        "plt.ylabel('Distortion')\n",
        "plt.title('For 2018')\n",
        "plt.show()"
      ],
      "execution_count": 0,
      "outputs": [
        {
          "output_type": "display_data",
          "data": {
            "image/png": "[encoded data removed]",
            "text/plain": [
              "<Figure size 432x288 with 1 Axes>"
            ]
          },
          "metadata": {
            "tags": []
          }
        }
      ]
    },
    {
      "cell_type": "code",
      "metadata": {
        "id": "iKPMnUF8VEqH",
        "colab_type": "code",
        "outputId": "74d1beea-9ae3-4ea1-c3e0-40a2de4d1d58",
        "colab": {
          "base_uri": "https://localhost:8080/",
          "height": 34
        }
      },
      "source": [
        "#clustering + getting labels\n",
        "from sklearn.cluster import KMeans \n",
        "clusters = 2\n",
        "  \n",
        "kmeans = KMeans(n_clusters = clusters) \n",
        "kmeans.fit(c8) \n",
        "  \n",
        "print(kmeans.labels_)"
      ],
      "execution_count": 0,
      "outputs": [
        {
          "output_type": "stream",
          "text": [
            "[0 0 1 0 0 0 0 0 0 0]\n"
          ],
          "name": "stdout"
        }
      ]
    },
    {
      "cell_type": "code",
      "metadata": {
        "id": "uCUbWENEVOPW",
        "colab_type": "code",
        "colab": {}
      },
      "source": [
        "#Linear REgression\n",
        "from sklearn.model_selection import train_test_split, KFold\n",
        "stack = pd.read_csv(\"drive/My Drive/Datathon/Dataset/Cluster Data/Clean Data/Stack.csv\", encoding = 'utf-8', \n",
        "                              index_col = [\"Countries\"]) "
      ],
      "execution_count": 0,
      "outputs": []
    },
    {
      "cell_type": "code",
      "metadata": {
        "id": "Jn1gZU1dVZzK",
        "colab_type": "code",
        "outputId": "aaa5a298-d995-402b-9abf-183d40925141",
        "colab": {
          "base_uri": "https://localhost:8080/",
          "height": 34
        }
      },
      "source": [
        "from sklearn.preprocessing import StandardScaler\n",
        "scaler = StandardScaler()\n",
        "scaled_data = scaler.fit_transform(stack)\n",
        "# scaled_data\n",
        "print(s.stdev(scaled_data[:,0]))"
      ],
      "execution_count": 0,
      "outputs": [
        {
          "output_type": "stream",
          "text": [
            "1.0072203103706698\n"
          ],
          "name": "stdout"
        }
      ]
    },
    {
      "cell_type": "code",
      "metadata": {
        "id": "LuX6asaCVfG_",
        "colab_type": "code",
        "colab": {}
      },
      "source": [
        "from statsmodels.graphics.tsaplots import plot_acf, plot_pacf\n",
        "import matplotlib.pyplot as plt\n",
        "# create a differenced series\n",
        "stack = stack.diff()"
      ],
      "execution_count": 0,
      "outputs": []
    },
    {
      "cell_type": "code",
      "metadata": {
        "id": "Ku4vwxCoWWQ9",
        "colab_type": "code",
        "outputId": "0c318c1e-19d2-4646-ce4b-16aaad5cfb9a",
        "colab": {
          "base_uri": "https://localhost:8080/",
          "height": 123
        }
      },
      "source": [
        "\n",
        "X = stack.iloc[:, 2:9]\n",
        "X.drop(\"Total Volume of Arrivals into US\", axis = 1, inplace =True)\n",
        "\n",
        "indexNames = X[X['Year'] == 2018].index\n",
        " \n",
        "# Delete these row indexes from dataFrame\n",
        "X.drop(indexNames , inplace=True)\n",
        "\n",
        "\n",
        "#y values\n",
        "y = stack.iloc[:,4]\n",
        "#split into test and train\n",
        "X_train, X_test, y_train, y_test = train_test_split(X, y, random_state=0)"
      ],
      "execution_count": 0,
      "outputs": [
        {
          "output_type": "stream",
          "text": [
            "/usr/local/lib/python3.6/dist-packages/pandas/core/frame.py:4117: SettingWithCopyWarning: \n",
            "A value is trying to be set on a copy of a slice from a DataFrame\n",
            "\n",
            "See the caveats in the documentation: http://pandas.pydata.org/pandas-docs/stable/user_guide/indexing.html#returning-a-view-versus-a-copy\n",
            "  errors=errors,\n"
          ],
          "name": "stderr"
        }
      ]
    },
    {
      "cell_type": "code",
      "metadata": {
        "id": "jlvEK60OoeAR",
        "colab_type": "code",
        "colab": {}
      },
      "source": [
        "X_train = X_train.drop(['United Kingdom'])\n",
        "y_train = y_train.drop(['United Kingdom'])"
      ],
      "execution_count": 0,
      "outputs": []
    },
    {
      "cell_type": "code",
      "metadata": {
        "id": "PDcC3GD_nhFT",
        "colab_type": "code",
        "outputId": "a95e6256-c9b2-4f7f-892d-879eb841732a",
        "colab": {
          "base_uri": "https://localhost:8080/",
          "height": 34
        }
      },
      "source": [
        "from sklearn.linear_model import LinearRegression\n",
        "linear = LinearRegression()\n",
        "# y_train_final = column_or_1d(y_train_final, warn=True)\n",
        "linear.fit(X_train,y_train)\n",
        "score = linear.score(X_test, y_test)\n",
        "print(score)"
      ],
      "execution_count": 0,
      "outputs": [
        {
          "output_type": "stream",
          "text": [
            "1.0\n"
          ],
          "name": "stdout"
        }
      ]
    },
    {
      "cell_type": "code",
      "metadata": {
        "id": "UJABM-Rfs2c5",
        "colab_type": "code",
        "outputId": "be70a8e0-a747-4ea2-ae3a-0ba4c1fb3742",
        "colab": {
          "base_uri": "https://localhost:8080/",
          "height": 34
        }
      },
      "source": [
        "list1 = [1,2,0,3,3]\n",
        "list2 = ['A','B','C','D','E']\n",
        "d ={}\n",
        "for i in range(len(list1)):\n",
        "  d[list2[i]] = list1[i]\n",
        "for item in d:\n",
        "  if(d[item] == d['C']):\n",
        "    print(item)"
      ],
      "execution_count": 0,
      "outputs": [
        {
          "output_type": "stream",
          "text": [
            "C\n"
          ],
          "name": "stdout"
        }
      ]
    },
    {
      "cell_type": "code",
      "metadata": {
        "id": "Ii0yPvTCiHci",
        "colab_type": "code",
        "colab": {}
      },
      "source": [
        "# from sklearn.model_selection import train_test_split, KFold\n",
        "import pandas as pd\n",
        "stack = pd.read_csv(\"drive/My Drive/Datathon/Dataset/Cluster Data/Clean Data/Stack.csv\", encoding = 'utf-8', \n",
        "                              index_col = [\"Countries\"]) \n",
        "# stack"
      ],
      "execution_count": 0,
      "outputs": []
    },
    {
      "cell_type": "code",
      "metadata": {
        "id": "Gv2cVgB8j9qa",
        "colab_type": "code",
        "colab": {}
      },
      "source": [
        "similarc = stack.loc[['Korea, South','India']]\n",
        "# similarc\n",
        "# indexNames = X[X['Year'] == 2018].index\n",
        "# indexNames"
      ],
      "execution_count": 0,
      "outputs": []
    },
    {
      "cell_type": "code",
      "metadata": {
        "id": "2WTy4exDlDx8",
        "colab_type": "code",
        "outputId": "d845fb31-469a-4a56-8dff-553436c952fb",
        "colab": {
          "base_uri": "https://localhost:8080/",
          "height": 190
        }
      },
      "source": [
        "china = stack.loc[['China']]\n",
        "# china.append(pd.DataFrame(\"China\",\t\"6.609\",\t\"1464810\",\t\"2210597\",\t\"5.91\",\t\"59811.59536\",\t\"5213.020471\", \"2018\"))\n",
        "similarc['International Tourism per capita'].fillna(similarc['International Tourism per capita'].mean())\n",
        "similarc['Income Per Capita'].fillna(similarc['Income Per Capita'].mean())\n",
        "\n",
        "china['International Tourism per capita'].fillna(china['International Tourism per capita'].mean())\n",
        "china['Income Per Capita'].fillna(china['Income Per Capita'].mean())"
      ],
      "execution_count": 0,
      "outputs": [
        {
          "output_type": "execute_result",
          "data": {
            "text/plain": [
              "Countries\n",
              "China    4124.144120\n",
              "China    4770.882242\n",
              "China    5262.949890\n",
              "China    5754.297064\n",
              "China    6091.615435\n",
              "China    6163.984514\n",
              "China    6567.928606\n",
              "China    5533.685982\n",
              "Name: Income Per Capita, dtype: float64"
            ]
          },
          "metadata": {
            "tags": []
          },
          "execution_count": 88
        }
      ]
    },
    {
      "cell_type": "code",
      "metadata": {
        "id": "ZplbxylXo_EJ",
        "colab_type": "code",
        "outputId": "2e18cfed-bf89-492a-f912-476cd4f4ffcc",
        "colab": {
          "base_uri": "https://localhost:8080/",
          "height": 262
        }
      },
      "source": [
        "from sklearn.model_selection import train_test_split\n",
        "X = similarc.iloc[:, 0:8]\n",
        "X.drop(\"Total Volume of Arrivals into US\", axis = 1, inplace =True)\n",
        "\n",
        "X['International Tourism per capita'].fillna(X['International Tourism per capita'].mean(), inplace = True)\n",
        "X['Income Per Capita'].fillna(X['Income Per Capita'].mean(), inplace = True)\n",
        "\n",
        "# indexNames = X[X['Year'] == 2018].index\n",
        " \n",
        "# Delete these row indexes from dataFrame\n",
        "# X.drop(indexNames , inplace=True)\n",
        "# y.drop(indexNames , inplace=True)\n",
        "#y values\n",
        "y_data = pd.read_csv(\"drive/My Drive/Datathon/Dataset/Cluster Data/Clean Data/Jandata.csv\", encoding = 'utf-8', \n",
        "                              index_col = [\"Country\"])\n",
        "# y = y_data.iloc[:,2]\n",
        "y = y_data[['Monthly Arrival']]\n",
        "\n",
        "# # split into test and train\n",
        "X_train, X_test, y_train, y_test = train_test_split(X, y, random_state=0)\n",
        "from sklearn.linear_model import LinearRegression\n",
        "linear = LinearRegression()\n",
        "# y_train_final = column_or_1d(y_train_final, warn=True)\n",
        "linear.fit(X_train,y_train)\n",
        "score = linear.score(X_test, y_test)\n",
        "print(\"Model score\", score)\n",
        "china_2018 = china[china['Year'] == 2018]\n",
        "china_2018['International Tourism per capita'].fillna(china['International Tourism per capita'].mean(), inplace = True)\n",
        "china_2018['Income Per Capita'].fillna(china['Income Per Capita'].mean(), inplace = True)\n",
        "china_2018.drop(\"Total Volume of Arrivals into US\", axis = 1, inplace =True)\n",
        "china_2018.drop(\"Year\", axis = 1, inplace =True)\n",
        "y_pred = linear.predict(china_2018)\n",
        "print(\"Predicted value for 2019:\", y_pred) #close to true value\n",
        "print(\"Actual value for 2019: 340387\") #close to true value"
      ],
      "execution_count": 0,
      "outputs": [
        {
          "output_type": "stream",
          "text": [
            "Model score 0.9742018569447418\n",
            "Predicted value for 2019: [[205243.84962656]]\n",
            "Actual value for 2019: 340387\n"
          ],
          "name": "stdout"
        },
        {
          "output_type": "stream",
          "text": [
            "/usr/local/lib/python3.6/dist-packages/pandas/core/generic.py:6287: SettingWithCopyWarning: \n",
            "A value is trying to be set on a copy of a slice from a DataFrame\n",
            "\n",
            "See the caveats in the documentation: http://pandas.pydata.org/pandas-docs/stable/user_guide/indexing.html#returning-a-view-versus-a-copy\n",
            "  self._update_inplace(new_data)\n",
            "/usr/local/lib/python3.6/dist-packages/pandas/core/frame.py:4117: SettingWithCopyWarning: \n",
            "A value is trying to be set on a copy of a slice from a DataFrame\n",
            "\n",
            "See the caveats in the documentation: http://pandas.pydata.org/pandas-docs/stable/user_guide/indexing.html#returning-a-view-versus-a-copy\n",
            "  errors=errors,\n"
          ],
          "name": "stderr"
        }
      ]
    },
    {
      "cell_type": "code",
      "metadata": {
        "id": "6MnBq0Sk3y_p",
        "colab_type": "code",
        "outputId": "cfd1db71-8afb-41ec-af84-7d7b5097e5a8",
        "colab": {
          "base_uri": "https://localhost:8080/",
          "height": 595
        }
      },
      "source": [
        "X_train"
      ],
      "execution_count": 0,
      "outputs": [
        {
          "output_type": "execute_result",
          "data": {
            "text/html": [
              "<div>\n",
              "<style scoped>\n",
              "    .dataframe tbody tr th:only-of-type {\n",
              "        vertical-align: middle;\n",
              "    }\n",
              "\n",
              "    .dataframe tbody tr th {\n",
              "        vertical-align: top;\n",
              "    }\n",
              "\n",
              "    .dataframe thead th {\n",
              "        text-align: right;\n",
              "    }\n",
              "</style>\n",
              "<table border=\"1\" class=\"dataframe\">\n",
              "  <thead>\n",
              "    <tr style=\"text-align: right;\">\n",
              "      <th></th>\n",
              "      <th>Exchange Rate</th>\n",
              "      <th>Visa Issuances</th>\n",
              "      <th>Visa Refusal Rate</th>\n",
              "      <th>GDP per capita</th>\n",
              "      <th>International Tourism per capita</th>\n",
              "      <th>Consumption per Capita</th>\n",
              "      <th>Income Per Capita</th>\n",
              "    </tr>\n",
              "    <tr>\n",
              "      <th>Countries</th>\n",
              "      <th></th>\n",
              "      <th></th>\n",
              "      <th></th>\n",
              "      <th></th>\n",
              "      <th></th>\n",
              "      <th></th>\n",
              "      <th></th>\n",
              "    </tr>\n",
              "  </thead>\n",
              "  <tbody>\n",
              "    <tr>\n",
              "      <th>India</th>\n",
              "      <td>67.1572</td>\n",
              "      <td>977825</td>\n",
              "      <td>20.42</td>\n",
              "      <td>9.285193e+04</td>\n",
              "      <td>14.483851</td>\n",
              "      <td>1204.340092</td>\n",
              "      <td>1504.456703</td>\n",
              "    </tr>\n",
              "    <tr>\n",
              "      <th>Korea, South</th>\n",
              "      <td>1130.9603</td>\n",
              "      <td>73402</td>\n",
              "      <td>5.36</td>\n",
              "      <td>2.875213e+07</td>\n",
              "      <td>548.015859</td>\n",
              "      <td>17433.302440</td>\n",
              "      <td>21959.151510</td>\n",
              "    </tr>\n",
              "    <tr>\n",
              "      <th>Korea, South</th>\n",
              "      <td>1094.6749</td>\n",
              "      <td>80919</td>\n",
              "      <td>3.50</td>\n",
              "      <td>2.738177e+07</td>\n",
              "      <td>485.019570</td>\n",
              "      <td>17066.287770</td>\n",
              "      <td>20901.658010</td>\n",
              "    </tr>\n",
              "    <tr>\n",
              "      <th>India</th>\n",
              "      <td>65.0659</td>\n",
              "      <td>1009332</td>\n",
              "      <td>20.15</td>\n",
              "      <td>9.845569e+04</td>\n",
              "      <td>16.326789</td>\n",
              "      <td>1387.149550</td>\n",
              "      <td>1678.499262</td>\n",
              "    </tr>\n",
              "    <tr>\n",
              "      <th>India</th>\n",
              "      <td>58.5149</td>\n",
              "      <td>684176</td>\n",
              "      <td>16.90</td>\n",
              "      <td>7.652262e+04</td>\n",
              "      <td>10.839710</td>\n",
              "      <td>984.872399</td>\n",
              "      <td>1249.209021</td>\n",
              "    </tr>\n",
              "    <tr>\n",
              "      <th>Korea, South</th>\n",
              "      <td>1099.2926</td>\n",
              "      <td>74988</td>\n",
              "      <td>12.34</td>\n",
              "      <td>3.093844e+07</td>\n",
              "      <td>269.289527</td>\n",
              "      <td>20302.988330</td>\n",
              "      <td>NaN</td>\n",
              "    </tr>\n",
              "    <tr>\n",
              "      <th>India</th>\n",
              "      <td>68.3734</td>\n",
              "      <td>1006802</td>\n",
              "      <td>20.15</td>\n",
              "      <td>1.040766e+05</td>\n",
              "      <td>269.289527</td>\n",
              "      <td>1419.411063</td>\n",
              "      <td>NaN</td>\n",
              "    </tr>\n",
              "    <tr>\n",
              "      <th>India</th>\n",
              "      <td>60.9953</td>\n",
              "      <td>808287</td>\n",
              "      <td>19.40</td>\n",
              "      <td>8.125687e+04</td>\n",
              "      <td>13.501037</td>\n",
              "      <td>1079.187623</td>\n",
              "      <td>1368.284906</td>\n",
              "    </tr>\n",
              "    <tr>\n",
              "      <th>Korea, South</th>\n",
              "      <td>1052.2924</td>\n",
              "      <td>73200</td>\n",
              "      <td>3.20</td>\n",
              "      <td>2.811953e+07</td>\n",
              "      <td>515.028979</td>\n",
              "      <td>18207.898180</td>\n",
              "      <td>22533.150820</td>\n",
              "    </tr>\n",
              "    <tr>\n",
              "      <th>Korea, South</th>\n",
              "      <td>1106.9400</td>\n",
              "      <td>106994</td>\n",
              "      <td>7.50</td>\n",
              "      <td>2.627115e+07</td>\n",
              "      <td>444.463242</td>\n",
              "      <td>15783.401360</td>\n",
              "      <td>19677.694960</td>\n",
              "    </tr>\n",
              "    <tr>\n",
              "      <th>Korea, South</th>\n",
              "      <td>1159.3422</td>\n",
              "      <td>77370</td>\n",
              "      <td>16.70</td>\n",
              "      <td>2.946110e+07</td>\n",
              "      <td>581.843861</td>\n",
              "      <td>17621.398020</td>\n",
              "      <td>22420.543850</td>\n",
              "    </tr>\n",
              "    <tr>\n",
              "      <th>India</th>\n",
              "      <td>64.1073</td>\n",
              "      <td>961423</td>\n",
              "      <td>20.41</td>\n",
              "      <td>8.677993e+04</td>\n",
              "      <td>13.499193</td>\n",
              "      <td>1114.862665</td>\n",
              "      <td>1404.923449</td>\n",
              "    </tr>\n",
              "  </tbody>\n",
              "</table>\n",
              "</div>"
            ],
            "text/plain": [
              "              Exchange Rate  ...  Income Per Capita\n",
              "Countries                    ...                   \n",
              "India               67.1572  ...        1504.456703\n",
              "Korea, South      1130.9603  ...       21959.151510\n",
              "Korea, South      1094.6749  ...       20901.658010\n",
              "India               65.0659  ...        1678.499262\n",
              "India               58.5149  ...        1249.209021\n",
              "Korea, South      1099.2926  ...                NaN\n",
              "India               68.3734  ...                NaN\n",
              "India               60.9953  ...        1368.284906\n",
              "Korea, South      1052.2924  ...       22533.150820\n",
              "Korea, South      1106.9400  ...       19677.694960\n",
              "Korea, South      1159.3422  ...       22420.543850\n",
              "India               64.1073  ...        1404.923449\n",
              "\n",
              "[12 rows x 7 columns]"
            ]
          },
          "metadata": {
            "tags": []
          },
          "execution_count": 129
        }
      ]
    },
    {
      "cell_type": "code",
      "metadata": {
        "id": "Rbvs2Vk_3jG0",
        "colab_type": "code",
        "outputId": "4c26ea5d-735a-47ba-9c72-2b7feabe992e",
        "colab": {
          "base_uri": "https://localhost:8080/",
          "height": 146
        }
      },
      "source": [
        "china_2018"
      ],
      "execution_count": 0,
      "outputs": [
        {
          "output_type": "execute_result",
          "data": {
            "text/html": [
              "<div>\n",
              "<style scoped>\n",
              "    .dataframe tbody tr th:only-of-type {\n",
              "        vertical-align: middle;\n",
              "    }\n",
              "\n",
              "    .dataframe tbody tr th {\n",
              "        vertical-align: top;\n",
              "    }\n",
              "\n",
              "    .dataframe thead th {\n",
              "        text-align: right;\n",
              "    }\n",
              "</style>\n",
              "<table border=\"1\" class=\"dataframe\">\n",
              "  <thead>\n",
              "    <tr style=\"text-align: right;\">\n",
              "      <th></th>\n",
              "      <th>Exchange Rate</th>\n",
              "      <th>Visa Issuances</th>\n",
              "      <th>Visa Refusal Rate</th>\n",
              "      <th>GDP per capita</th>\n",
              "      <th>International Tourism per capita</th>\n",
              "      <th>Consumption per Capita</th>\n",
              "      <th>Income Per Capita</th>\n",
              "    </tr>\n",
              "    <tr>\n",
              "      <th>Countries</th>\n",
              "      <th></th>\n",
              "      <th></th>\n",
              "      <th></th>\n",
              "      <th></th>\n",
              "      <th></th>\n",
              "      <th></th>\n",
              "      <th></th>\n",
              "    </tr>\n",
              "  </thead>\n",
              "  <tbody>\n",
              "    <tr>\n",
              "      <th>China</th>\n",
              "      <td>6.609</td>\n",
              "      <td>1464810</td>\n",
              "      <td>5.91</td>\n",
              "      <td>59811.59536</td>\n",
              "      <td>134.340011</td>\n",
              "      <td>5213.020471</td>\n",
              "      <td>5533.685982</td>\n",
              "    </tr>\n",
              "  </tbody>\n",
              "</table>\n",
              "</div>"
            ],
            "text/plain": [
              "           Exchange Rate  ...  Income Per Capita\n",
              "Countries                 ...                   \n",
              "China              6.609  ...        5533.685982\n",
              "\n",
              "[1 rows x 7 columns]"
            ]
          },
          "metadata": {
            "tags": []
          },
          "execution_count": 125
        }
      ]
    },
    {
      "cell_type": "code",
      "metadata": {
        "id": "sdSlA74f09Cq",
        "colab_type": "code",
        "outputId": "7696e47c-ff36-40ed-8c8a-56a71e25ff38",
        "colab": {
          "base_uri": "https://localhost:8080/",
          "height": 755
        }
      },
      "source": [
        "similarc.iloc[:, 0:7]"
      ],
      "execution_count": 0,
      "outputs": [
        {
          "output_type": "execute_result",
          "data": {
            "text/html": [
              "<div>\n",
              "<style scoped>\n",
              "    .dataframe tbody tr th:only-of-type {\n",
              "        vertical-align: middle;\n",
              "    }\n",
              "\n",
              "    .dataframe tbody tr th {\n",
              "        vertical-align: top;\n",
              "    }\n",
              "\n",
              "    .dataframe thead th {\n",
              "        text-align: right;\n",
              "    }\n",
              "</style>\n",
              "<table border=\"1\" class=\"dataframe\">\n",
              "  <thead>\n",
              "    <tr style=\"text-align: right;\">\n",
              "      <th></th>\n",
              "      <th>Exchange Rate</th>\n",
              "      <th>Visa Issuances</th>\n",
              "      <th>Total Volume of Arrivals into US</th>\n",
              "      <th>Visa Refusal Rate</th>\n",
              "      <th>GDP per capita</th>\n",
              "      <th>International Tourism per capita</th>\n",
              "      <th>Consumption per Capita</th>\n",
              "    </tr>\n",
              "    <tr>\n",
              "      <th>Countries</th>\n",
              "      <th></th>\n",
              "      <th></th>\n",
              "      <th></th>\n",
              "      <th></th>\n",
              "      <th></th>\n",
              "      <th></th>\n",
              "      <th></th>\n",
              "    </tr>\n",
              "  </thead>\n",
              "  <tbody>\n",
              "    <tr>\n",
              "      <th>Korea, South</th>\n",
              "      <td>1106.9400</td>\n",
              "      <td>106994</td>\n",
              "      <td>1211197</td>\n",
              "      <td>7.50</td>\n",
              "      <td>2.627115e+07</td>\n",
              "      <td>444.463242</td>\n",
              "      <td>15783.401360</td>\n",
              "    </tr>\n",
              "    <tr>\n",
              "      <th>Korea, South</th>\n",
              "      <td>1126.1621</td>\n",
              "      <td>90927</td>\n",
              "      <td>1295069</td>\n",
              "      <td>13.00</td>\n",
              "      <td>2.673248e+07</td>\n",
              "      <td>456.853927</td>\n",
              "      <td>16126.601010</td>\n",
              "    </tr>\n",
              "    <tr>\n",
              "      <th>Korea, South</th>\n",
              "      <td>1094.6749</td>\n",
              "      <td>80919</td>\n",
              "      <td>1872033</td>\n",
              "      <td>3.50</td>\n",
              "      <td>2.738177e+07</td>\n",
              "      <td>485.019570</td>\n",
              "      <td>17066.287770</td>\n",
              "    </tr>\n",
              "    <tr>\n",
              "      <th>Korea, South</th>\n",
              "      <td>1052.2924</td>\n",
              "      <td>73200</td>\n",
              "      <td>2224787</td>\n",
              "      <td>3.20</td>\n",
              "      <td>2.811953e+07</td>\n",
              "      <td>515.028979</td>\n",
              "      <td>18207.898180</td>\n",
              "    </tr>\n",
              "    <tr>\n",
              "      <th>Korea, South</th>\n",
              "      <td>1130.9603</td>\n",
              "      <td>73402</td>\n",
              "      <td>2628570</td>\n",
              "      <td>5.36</td>\n",
              "      <td>2.875213e+07</td>\n",
              "      <td>548.015859</td>\n",
              "      <td>17433.302440</td>\n",
              "    </tr>\n",
              "    <tr>\n",
              "      <th>Korea, South</th>\n",
              "      <td>1159.3422</td>\n",
              "      <td>77370</td>\n",
              "      <td>3049942</td>\n",
              "      <td>16.70</td>\n",
              "      <td>2.946110e+07</td>\n",
              "      <td>581.843861</td>\n",
              "      <td>17621.398020</td>\n",
              "    </tr>\n",
              "    <tr>\n",
              "      <th>Korea, South</th>\n",
              "      <td>1129.0435</td>\n",
              "      <td>79107</td>\n",
              "      <td>3173915</td>\n",
              "      <td>12.34</td>\n",
              "      <td>3.023334e+07</td>\n",
              "      <td>648.075812</td>\n",
              "      <td>18865.701780</td>\n",
              "    </tr>\n",
              "    <tr>\n",
              "      <th>Korea, South</th>\n",
              "      <td>1099.2926</td>\n",
              "      <td>74988</td>\n",
              "      <td>2991813</td>\n",
              "      <td>12.34</td>\n",
              "      <td>3.093844e+07</td>\n",
              "      <td>NaN</td>\n",
              "      <td>20302.988330</td>\n",
              "    </tr>\n",
              "    <tr>\n",
              "      <th>India</th>\n",
              "      <td>46.5782</td>\n",
              "      <td>554267</td>\n",
              "      <td>696107</td>\n",
              "      <td>30.10</td>\n",
              "      <td>6.987451e+04</td>\n",
              "      <td>10.956669</td>\n",
              "      <td>981.181364</td>\n",
              "    </tr>\n",
              "    <tr>\n",
              "      <th>India</th>\n",
              "      <td>53.3743</td>\n",
              "      <td>582098</td>\n",
              "      <td>747833</td>\n",
              "      <td>24.10</td>\n",
              "      <td>7.278513e+04</td>\n",
              "      <td>11.144882</td>\n",
              "      <td>969.487032</td>\n",
              "    </tr>\n",
              "    <tr>\n",
              "      <th>India</th>\n",
              "      <td>58.5149</td>\n",
              "      <td>684176</td>\n",
              "      <td>885580</td>\n",
              "      <td>16.90</td>\n",
              "      <td>7.652262e+04</td>\n",
              "      <td>10.839710</td>\n",
              "      <td>984.872399</td>\n",
              "    </tr>\n",
              "    <tr>\n",
              "      <th>India</th>\n",
              "      <td>60.9953</td>\n",
              "      <td>808287</td>\n",
              "      <td>970293</td>\n",
              "      <td>19.40</td>\n",
              "      <td>8.125687e+04</td>\n",
              "      <td>13.501037</td>\n",
              "      <td>1079.187623</td>\n",
              "    </tr>\n",
              "    <tr>\n",
              "      <th>India</th>\n",
              "      <td>64.1073</td>\n",
              "      <td>961423</td>\n",
              "      <td>1045424</td>\n",
              "      <td>20.41</td>\n",
              "      <td>8.677993e+04</td>\n",
              "      <td>13.499193</td>\n",
              "      <td>1114.862665</td>\n",
              "    </tr>\n",
              "    <tr>\n",
              "      <th>India</th>\n",
              "      <td>67.1572</td>\n",
              "      <td>977825</td>\n",
              "      <td>988860</td>\n",
              "      <td>20.42</td>\n",
              "      <td>9.285193e+04</td>\n",
              "      <td>14.483851</td>\n",
              "      <td>1204.340092</td>\n",
              "    </tr>\n",
              "    <tr>\n",
              "      <th>India</th>\n",
              "      <td>65.0659</td>\n",
              "      <td>1009332</td>\n",
              "      <td>1032107</td>\n",
              "      <td>20.15</td>\n",
              "      <td>9.845569e+04</td>\n",
              "      <td>16.326789</td>\n",
              "      <td>1387.149550</td>\n",
              "    </tr>\n",
              "    <tr>\n",
              "      <th>India</th>\n",
              "      <td>68.3734</td>\n",
              "      <td>1006802</td>\n",
              "      <td>1073383</td>\n",
              "      <td>20.15</td>\n",
              "      <td>1.040766e+05</td>\n",
              "      <td>NaN</td>\n",
              "      <td>1419.411063</td>\n",
              "    </tr>\n",
              "  </tbody>\n",
              "</table>\n",
              "</div>"
            ],
            "text/plain": [
              "              Exchange Rate  ...  Consumption per Capita\n",
              "Countries                    ...                        \n",
              "Korea, South      1106.9400  ...            15783.401360\n",
              "Korea, South      1126.1621  ...            16126.601010\n",
              "Korea, South      1094.6749  ...            17066.287770\n",
              "Korea, South      1052.2924  ...            18207.898180\n",
              "Korea, South      1130.9603  ...            17433.302440\n",
              "Korea, South      1159.3422  ...            17621.398020\n",
              "Korea, South      1129.0435  ...            18865.701780\n",
              "Korea, South      1099.2926  ...            20302.988330\n",
              "India               46.5782  ...              981.181364\n",
              "India               53.3743  ...              969.487032\n",
              "India               58.5149  ...              984.872399\n",
              "India               60.9953  ...             1079.187623\n",
              "India               64.1073  ...             1114.862665\n",
              "India               67.1572  ...             1204.340092\n",
              "India               65.0659  ...             1387.149550\n",
              "India               68.3734  ...             1419.411063\n",
              "\n",
              "[16 rows x 7 columns]"
            ]
          },
          "metadata": {
            "tags": []
          },
          "execution_count": 120
        }
      ]
    },
    {
      "cell_type": "code",
      "metadata": {
        "id": "VBSU2und2X_V",
        "colab_type": "code",
        "outputId": "62fd7d28-74c1-4c6c-f6c3-8a0cdb721deb",
        "colab": {
          "base_uri": "https://localhost:8080/",
          "height": 146
        }
      },
      "source": [
        "china_2018"
      ],
      "execution_count": 0,
      "outputs": [
        {
          "output_type": "execute_result",
          "data": {
            "text/html": [
              "<div>\n",
              "<style scoped>\n",
              "    .dataframe tbody tr th:only-of-type {\n",
              "        vertical-align: middle;\n",
              "    }\n",
              "\n",
              "    .dataframe tbody tr th {\n",
              "        vertical-align: top;\n",
              "    }\n",
              "\n",
              "    .dataframe thead th {\n",
              "        text-align: right;\n",
              "    }\n",
              "</style>\n",
              "<table border=\"1\" class=\"dataframe\">\n",
              "  <thead>\n",
              "    <tr style=\"text-align: right;\">\n",
              "      <th></th>\n",
              "      <th>Exchange Rate</th>\n",
              "      <th>Visa Issuances</th>\n",
              "      <th>Visa Refusal Rate</th>\n",
              "      <th>GDP per capita</th>\n",
              "      <th>International Tourism per capita</th>\n",
              "      <th>Consumption per Capita</th>\n",
              "      <th>Income Per Capita</th>\n",
              "    </tr>\n",
              "    <tr>\n",
              "      <th>Countries</th>\n",
              "      <th></th>\n",
              "      <th></th>\n",
              "      <th></th>\n",
              "      <th></th>\n",
              "      <th></th>\n",
              "      <th></th>\n",
              "      <th></th>\n",
              "    </tr>\n",
              "  </thead>\n",
              "  <tbody>\n",
              "    <tr>\n",
              "      <th>China</th>\n",
              "      <td>6.609</td>\n",
              "      <td>1464810</td>\n",
              "      <td>5.91</td>\n",
              "      <td>59811.59536</td>\n",
              "      <td>134.340011</td>\n",
              "      <td>5213.020471</td>\n",
              "      <td>5533.685982</td>\n",
              "    </tr>\n",
              "  </tbody>\n",
              "</table>\n",
              "</div>"
            ],
            "text/plain": [
              "           Exchange Rate  ...  Income Per Capita\n",
              "Countries                 ...                   \n",
              "China              6.609  ...        5533.685982\n",
              "\n",
              "[1 rows x 7 columns]"
            ]
          },
          "metadata": {
            "tags": []
          },
          "execution_count": 115
        }
      ]
    },
    {
      "cell_type": "code",
      "metadata": {
        "id": "MgaPgLPwvNvZ",
        "colab_type": "code",
        "outputId": "0ee02d5c-f42a-456e-b43b-098e8245a247",
        "colab": {
          "base_uri": "https://localhost:8080/",
          "height": 34
        }
      },
      "source": [
        "len(y)"
      ],
      "execution_count": 0,
      "outputs": [
        {
          "output_type": "execute_result",
          "data": {
            "text/plain": [
              "16"
            ]
          },
          "metadata": {
            "tags": []
          },
          "execution_count": 82
        }
      ]
    },
    {
      "cell_type": "code",
      "metadata": {
        "id": "_MrYp3p_xHaf",
        "colab_type": "code",
        "outputId": "3c3db50a-6afc-40fc-a18e-37e3753dc8f7",
        "colab": {
          "base_uri": "https://localhost:8080/",
          "height": 34
        }
      },
      "source": [
        "len(X)"
      ],
      "execution_count": 0,
      "outputs": [
        {
          "output_type": "execute_result",
          "data": {
            "text/plain": [
              "16"
            ]
          },
          "metadata": {
            "tags": []
          },
          "execution_count": 83
        }
      ]
    },
    {
      "cell_type": "code",
      "metadata": {
        "id": "sciTR6lasWhT",
        "colab_type": "code",
        "colab": {}
      },
      "source": [
        ""
      ],
      "execution_count": 0,
      "outputs": []
    }
  ]
}